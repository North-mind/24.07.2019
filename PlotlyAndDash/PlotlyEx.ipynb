{
 "cells": [
  {
   "cell_type": "code",
   "execution_count": 4,
   "metadata": {},
   "outputs": [
    {
     "name": "stdout",
     "output_type": "stream",
     "text": [
      "Requirement already satisfied: chardet>=3.0.4 in /home/darek/anaconda3/lib/python3.7/site-packages (from -r requirements.txt (line 1)) (3.0.4)\n",
      "Requirement already satisfied: click>=6.7 in /home/darek/anaconda3/lib/python3.7/site-packages (from -r requirements.txt (line 2)) (6.7)\n",
      "Requirement already satisfied: Cython>=0.28.2 in /home/darek/anaconda3/lib/python3.7/site-packages (from -r requirements.txt (line 3)) (0.28.2)\n",
      "Requirement already satisfied: dash>=0.21.0 in /home/darek/anaconda3/lib/python3.7/site-packages (from -r requirements.txt (line 4)) (0.21.0)\n",
      "Requirement already satisfied: dash-core-components>=0.22.1 in /home/darek/anaconda3/lib/python3.7/site-packages (from -r requirements.txt (line 5)) (0.22.1)\n",
      "Requirement already satisfied: dash-html-components==0.10.0 in /home/darek/anaconda3/lib/python3.7/site-packages (from -r requirements.txt (line 6)) (0.10.0)\n",
      "Requirement already satisfied: dash-renderer==0.12.1 in /home/darek/anaconda3/lib/python3.7/site-packages (from -r requirements.txt (line 7)) (0.12.1)\n",
      "Requirement already satisfied: decorator==4.3.0 in /home/darek/anaconda3/lib/python3.7/site-packages (from -r requirements.txt (line 8)) (4.3.0)\n",
      "Requirement already satisfied: nbformat==4.4.0 in /home/darek/anaconda3/lib/python3.7/site-packages (from -r requirements.txt (line 9)) (4.4.0)\n",
      "Requirement already satisfied: numpy in /home/darek/anaconda3/lib/python3.7/site-packages (from -r requirements.txt (line 10)) (1.16.2)\n",
      "Requirement already satisfied: pandas in /home/darek/anaconda3/lib/python3.7/site-packages (from -r requirements.txt (line 11)) (0.24.2)\n",
      "Requirement already satisfied: pandas-datareader==0.6.0 in /home/darek/anaconda3/lib/python3.7/site-packages (from -r requirements.txt (line 12)) (0.6.0)\n",
      "Requirement already satisfied: plotly==2.5.1 in /home/darek/anaconda3/lib/python3.7/site-packages (from -r requirements.txt (line 13)) (2.5.1)\n",
      "Requirement already satisfied: python-dateutil==2.7.2 in /home/darek/anaconda3/lib/python3.7/site-packages (from -r requirements.txt (line 14)) (2.7.2)\n",
      "Requirement already satisfied: pytz==2018.4 in /home/darek/anaconda3/lib/python3.7/site-packages (from -r requirements.txt (line 15)) (2018.4)\n",
      "Requirement already satisfied: requests==2.18.4 in /home/darek/anaconda3/lib/python3.7/site-packages (from -r requirements.txt (line 16)) (2.18.4)\n",
      "Requirement already satisfied: urllib3==1.22 in /home/darek/anaconda3/lib/python3.7/site-packages (from -r requirements.txt (line 17)) (1.22)\n",
      "Requirement already satisfied: Werkzeug==0.14.1 in /home/darek/anaconda3/lib/python3.7/site-packages (from -r requirements.txt (line 18)) (0.14.1)\n",
      "Requirement already satisfied: Flask>=0.12 in /home/darek/anaconda3/lib/python3.7/site-packages (from dash>=0.21.0->-r requirements.txt (line 4)) (1.0.2)\n",
      "Requirement already satisfied: flask-compress in /home/darek/anaconda3/lib/python3.7/site-packages (from dash>=0.21.0->-r requirements.txt (line 4)) (1.4.0)\n",
      "Requirement already satisfied: traitlets>=4.1 in /home/darek/anaconda3/lib/python3.7/site-packages (from nbformat==4.4.0->-r requirements.txt (line 9)) (4.3.2)\n",
      "Requirement already satisfied: jupyter-core in /home/darek/anaconda3/lib/python3.7/site-packages (from nbformat==4.4.0->-r requirements.txt (line 9)) (4.4.0)\n",
      "Requirement already satisfied: jsonschema!=2.5.0,>=2.4 in /home/darek/anaconda3/lib/python3.7/site-packages (from nbformat==4.4.0->-r requirements.txt (line 9)) (3.0.1)\n",
      "Requirement already satisfied: ipython-genutils in /home/darek/anaconda3/lib/python3.7/site-packages (from nbformat==4.4.0->-r requirements.txt (line 9)) (0.2.0)\n",
      "Requirement already satisfied: lxml in /home/darek/anaconda3/lib/python3.7/site-packages (from pandas-datareader==0.6.0->-r requirements.txt (line 12)) (4.3.2)\n",
      "Requirement already satisfied: requests-ftp in /home/darek/anaconda3/lib/python3.7/site-packages (from pandas-datareader==0.6.0->-r requirements.txt (line 12)) (0.3.1)\n",
      "Requirement already satisfied: wrapt in /home/darek/anaconda3/lib/python3.7/site-packages (from pandas-datareader==0.6.0->-r requirements.txt (line 12)) (1.11.1)\n",
      "Requirement already satisfied: requests-file in /home/darek/anaconda3/lib/python3.7/site-packages (from pandas-datareader==0.6.0->-r requirements.txt (line 12)) (1.4.3)\n",
      "Requirement already satisfied: six in /home/darek/anaconda3/lib/python3.7/site-packages (from plotly==2.5.1->-r requirements.txt (line 13)) (1.12.0)\n",
      "Requirement already satisfied: certifi>=2017.4.17 in /home/darek/anaconda3/lib/python3.7/site-packages (from requests==2.18.4->-r requirements.txt (line 16)) (2019.9.11)\n",
      "Requirement already satisfied: idna<2.7,>=2.5 in /home/darek/anaconda3/lib/python3.7/site-packages (from requests==2.18.4->-r requirements.txt (line 16)) (2.6)\n",
      "Requirement already satisfied: Jinja2>=2.10 in /home/darek/anaconda3/lib/python3.7/site-packages (from Flask>=0.12->dash>=0.21.0->-r requirements.txt (line 4)) (2.10)\n",
      "Requirement already satisfied: itsdangerous>=0.24 in /home/darek/anaconda3/lib/python3.7/site-packages (from Flask>=0.12->dash>=0.21.0->-r requirements.txt (line 4)) (1.1.0)\n",
      "Requirement already satisfied: attrs>=17.4.0 in /home/darek/anaconda3/lib/python3.7/site-packages (from jsonschema!=2.5.0,>=2.4->nbformat==4.4.0->-r requirements.txt (line 9)) (19.1.0)\n",
      "Requirement already satisfied: pyrsistent>=0.14.0 in /home/darek/anaconda3/lib/python3.7/site-packages (from jsonschema!=2.5.0,>=2.4->nbformat==4.4.0->-r requirements.txt (line 9)) (0.14.11)\n",
      "Requirement already satisfied: setuptools in /home/darek/anaconda3/lib/python3.7/site-packages (from jsonschema!=2.5.0,>=2.4->nbformat==4.4.0->-r requirements.txt (line 9)) (40.8.0)\n",
      "Requirement already satisfied: MarkupSafe>=0.23 in /home/darek/anaconda3/lib/python3.7/site-packages (from Jinja2>=2.10->Flask>=0.12->dash>=0.21.0->-r requirements.txt (line 4)) (1.1.1)\n"
     ]
    }
   ],
   "source": [
    "!pip install -r requirements.txt"
   ]
  },
  {
   "cell_type": "markdown",
   "metadata": {},
   "source": [
    "## Libraries already exist to visualize data with Python\n",
    "\n",
    "1. Matplotlib\n",
    "    * \"Grandfather\" of them all\n",
    "    * Modeled after MatLab's plotting capabilities\n",
    "    * Creates static image files\n",
    "    * Can create almost any plot type\n",
    "2. Seaborn\n",
    "    * Uses matplotplib on the backend\n",
    "    * Designed to create nice looking statistical plots (static plots)\n",
    "    * Can only create statistical plots available in documentation\n",
    "3. Pandas\n",
    "    * Main purpose is data analysis\n",
    "    * Uses matplotlib on the backend through simple .plo() calls\n",
    "    * Limited scope of plot types\n",
    "    * Static plots"
   ]
  },
  {
   "cell_type": "markdown",
   "metadata": {},
   "source": [
    "## What is Plotly?\n",
    "* Can cause confusion because Plotly is both a company and an open-source library\n",
    "* Plotly the company focused on data visualization for business intelligence: such as reporting, dashboards, and hosting BI solutions\n",
    "* Plotly the open source library is a general data vizualization library focused on interactive visualizations\n",
    "* Plotly has libraries for Javascript, React, R, and Python\n",
    "* The most popular version is the Python library\n",
    "* Using the plotly python library by itself creates interactive plots as .html files\n",
    "* While users can still interact with these plots (zoom in, select, hover over), these plots can't be connected to changing data sources\n",
    "* Once the interactive plotly plot is generated, the data the plot repesents is 'locked in' to the exported state of the plot\n",
    "* You would need to re-run the .py script and re-generate the .html file to see any updates"
   ]
  },
  {
   "cell_type": "markdown",
   "metadata": {},
   "source": [
    "## Tour of Plotly Documentation\n",
    "\n",
    "### https://plot.ly/python/"
   ]
  },
  {
   "cell_type": "code",
   "execution_count": 4,
   "metadata": {},
   "outputs": [],
   "source": [
    "#Import v.1\n",
    "import numpy as np\n",
    "import pandas as pd\n",
    "\n",
    "import plotly.graph_objs as go\n",
    "import plotly.offline as pyo\n",
    "\n",
    "from plotly import tools"
   ]
  },
  {
   "cell_type": "code",
   "execution_count": 5,
   "metadata": {},
   "outputs": [
    {
     "name": "stdout",
     "output_type": "stream",
     "text": [
      "<class 'pandas.core.frame.DataFrame'>\n",
      "RangeIndex: 3586 entries, 0 to 3585\n",
      "Data columns (total 6 columns):\n",
      "Data          3586 non-null object\n",
      "Otwarcie      3586 non-null float64\n",
      "Najwyzszy     3586 non-null float64\n",
      "Najnizszy     3586 non-null float64\n",
      "Zamkniecie    3586 non-null float64\n",
      "Wolumen       3586 non-null int64\n",
      "dtypes: float64(4), int64(1), object(1)\n",
      "memory usage: 168.2+ KB\n"
     ]
    }
   ],
   "source": [
    "Lotos = pd.read_csv('input/lts_d.csv')\n",
    "Orlen = pd.read_csv('input/pkn_d.csv')\n",
    "\n",
    "Lotos.info()\n",
    "\n",
    "Lotos.set_index('Data', inplace=True)\n",
    "Orlen.set_index('Data', inplace=True)"
   ]
  },
  {
   "cell_type": "code",
   "execution_count": 6,
   "metadata": {},
   "outputs": [],
   "source": [
    "#Prepare DataFrames with Lotos and Orlen quotes in 2019\n",
    "\n",
    "Lotos19 = Lotos[Lotos.index > '2018-12-31']\n",
    "Orlen19 = Orlen[Orlen.index > '2018-12-31']"
   ]
  },
  {
   "cell_type": "code",
   "execution_count": 7,
   "metadata": {},
   "outputs": [
    {
     "data": {
      "text/plain": [
       "<matplotlib.axes._subplots.AxesSubplot at 0x7f298fec6b00>"
      ]
     },
     "execution_count": 7,
     "metadata": {},
     "output_type": "execute_result"
    }
   ],
   "source": [
    "#Pandas for plotting\n",
    "Lotos19['Zamkniecie'].plot()"
   ]
  },
  {
   "cell_type": "code",
   "execution_count": 8,
   "metadata": {},
   "outputs": [],
   "source": [
    "import plotly.graph_objs as go\n",
    "import plotly.offline as pyo\n",
    "\n",
    "# Plotly_figure = data + *layout\n",
    "#go.Figure(data = 'TODO' , layout= 'TODO')\n",
    "\n",
    "#data = lists of plots\n",
    "#data = go.Scatter(x = Xdata, \n",
    "#                  *y = Ydata,\n",
    "#                  *mode = markers/lines,\n",
    "#                  *marker/line = dict() #parameters of marker as a dictionary\n",
    "#                  *label = ''\n",
    "#                  )\n",
    "\n",
    "#layout = plot description"
   ]
  },
  {
   "cell_type": "code",
   "execution_count": 9,
   "metadata": {},
   "outputs": [],
   "source": [
    "data = [go.Scatter(y = Lotos19['Zamkniecie'])]"
   ]
  },
  {
   "cell_type": "code",
   "execution_count": 10,
   "metadata": {},
   "outputs": [
    {
     "data": {
      "text/plain": [
       "'file:///home/darek/WprowadzenieDoPlotly/temp-plot.html'"
      ]
     },
     "execution_count": 10,
     "metadata": {},
     "output_type": "execute_result"
    }
   ],
   "source": [
    "fig = go.Figure(data = data)\n",
    "pyo.plot(fig)"
   ]
  },
  {
   "cell_type": "code",
   "execution_count": 98,
   "metadata": {},
   "outputs": [],
   "source": [
    "#Add x axis data\n",
    "data = [go.Scatter(x = Lotos19.index, y = Lotos19['Zamkniecie'])]"
   ]
  },
  {
   "cell_type": "code",
   "execution_count": 99,
   "metadata": {},
   "outputs": [
    {
     "data": {
      "text/plain": [
       "'file:///home/darek/WprowadzenieDoPlotly/Lotos19.html'"
      ]
     },
     "execution_count": 99,
     "metadata": {},
     "output_type": "execute_result"
    }
   ],
   "source": [
    "#Add filename\n",
    "fig = go.Figure(data = data)\n",
    "pyo.plot(fig, filename = \"Lotos19.html\")"
   ]
  },
  {
   "cell_type": "code",
   "execution_count": 102,
   "metadata": {},
   "outputs": [
    {
     "data": {
      "text/plain": [
       "'file:///home/darek/WprowadzenieDoPlotly/Lotos19.html'"
      ]
     },
     "execution_count": 102,
     "metadata": {},
     "output_type": "execute_result"
    }
   ],
   "source": [
    "#Task \n",
    "#Change plot line to markers \n",
    "data = [go.Scatter(x = Lotos19.index, y = Lotos19['Zamkniecie'])]\n",
    "\n",
    "fig = go.Figure(data = data)\n",
    "pyo.plot(fig, filename = \"Lotos19.html\")"
   ]
  },
  {
   "cell_type": "code",
   "execution_count": 108,
   "metadata": {},
   "outputs": [
    {
     "data": {
      "text/plain": [
       "'file:///home/darek/WprowadzenieDoPlotly/Lotos19.html'"
      ]
     },
     "execution_count": 108,
     "metadata": {},
     "output_type": "execute_result"
    }
   ],
   "source": [
    "#Task \n",
    "#Show Orlen and Lotos quotes on the same scatter plot\n",
    "data = [go.Scatter(x = Lotos19.index, y = Lotos19['Zamkniecie']), \n",
    "        go.Scatter(x = Orlen19.index, y = Orlen19['Zamkniecie'])]\n",
    "\n",
    "fig = go.Figure(data = data)\n",
    "pyo.plot(fig, filename = \"LotosAndOrlenIn19.html\")"
   ]
  },
  {
   "cell_type": "code",
   "execution_count": 121,
   "metadata": {},
   "outputs": [
    {
     "data": {
      "text/plain": [
       "'file:///home/darek/WprowadzenieDoPlotly/LotosAndOrlenIn19.html'"
      ]
     },
     "execution_count": 121,
     "metadata": {},
     "output_type": "execute_result"
    }
   ],
   "source": [
    "#Add plot label\n",
    "\n",
    "data = [go.Scatter(x = Lotos19.index, y = Lotos19['Zamkniecie'], name = \"Lotos\", ), \n",
    "        go.Scatter(x = Orlen19.index, y = Orlen19['Zamkniecie'], name = \"Orlen\" )]\n",
    "\n",
    "fig = go.Figure(data = data)\n",
    "pyo.plot(fig, filename = \"LotosAndOrlenIn19.html\")"
   ]
  },
  {
   "cell_type": "code",
   "execution_count": 142,
   "metadata": {},
   "outputs": [
    {
     "data": {
      "text/plain": [
       "'file:///home/darek/WprowadzenieDoPlotly/LotosAndOrlenIn19.html'"
      ]
     },
     "execution_count": 142,
     "metadata": {},
     "output_type": "execute_result"
    }
   ],
   "source": [
    "#Change a plot style\n",
    "\n",
    "data = [go.Scatter(x = Lotos19.index, y = Lotos19['Zamkniecie'], name = \"Lotos\",  marker = dict(color = 'green') ), \n",
    "        go.Scatter(x = Orlen19.index, y = Orlen19['Zamkniecie'], name = \"Orlen\", mode = 'lines',  line = dict(width = 3) )]\n",
    "\n",
    "fig = go.Figure(data = data)\n",
    "pyo.plot(fig, filename = \"LotosAndOrlenIn19.html\")"
   ]
  },
  {
   "cell_type": "code",
   "execution_count": 141,
   "metadata": {},
   "outputs": [
    {
     "data": {
      "text/plain": [
       "'file:///home/darek/WprowadzenieDoPlotly/LotosAndOrlenIn19.html'"
      ]
     },
     "execution_count": 141,
     "metadata": {},
     "output_type": "execute_result"
    }
   ],
   "source": [
    "#Let's define a layout of our chart\n",
    "\n",
    "layout = go.Layout(title = 'Quotation of the biggest polish petrol companies',\n",
    "                   xaxis = dict(title = 'Date', titlefont = dict(size = 15)),\n",
    "                   yaxis = dict(title = 'Quotation in [PLN]'),\n",
    "                   hovermode ='closest'\n",
    "                  )\n",
    "\n",
    "fig = go.Figure(data = data, layout = layout)\n",
    "pyo.plot(fig, filename = \"LotosAndOrlenIn19.html\")"
   ]
  },
  {
   "cell_type": "code",
   "execution_count": 154,
   "metadata": {},
   "outputs": [
    {
     "data": {
      "text/plain": [
       "'file:///home/darek/WprowadzenieDoPlotly/LotosWolumen.html'"
      ]
     },
     "execution_count": 154,
     "metadata": {},
     "output_type": "execute_result"
    }
   ],
   "source": [
    "#Task 4\n",
    "#Using go.Bar and show Wolumen data for Lotos in 2019\n",
    "data = [go.Bar(), \n",
    "        go.Scatter(x = Lotos19.index, y = Lotos19['Zamkniecie'], name = \"Lotos\", mode = 'lines',  line = dict(width = 3) )\n",
    "       ]\n",
    "\n",
    "layout = go.Layout(title = 'Lotos Quotations',\n",
    "                   xaxis = dict(title = 'Date', titlefont = dict(size = 15)),\n",
    "                   yaxis = dict(title = 'Quotation in [PLN] / Wolumen')\n",
    "                  )\n",
    "\n",
    "fig = go.Figure(data = data, layout = layout)\n",
    "pyo.plot(fig, filename = \"LotosWolumen.html\")\n"
   ]
  },
  {
   "cell_type": "code",
   "execution_count": null,
   "metadata": {},
   "outputs": [],
   "source": []
  },
  {
   "cell_type": "code",
   "execution_count": null,
   "metadata": {},
   "outputs": [],
   "source": [
    "#########################################"
   ]
  },
  {
   "cell_type": "code",
   "execution_count": null,
   "metadata": {},
   "outputs": [],
   "source": []
  },
  {
   "cell_type": "code",
   "execution_count": 337,
   "metadata": {},
   "outputs": [],
   "source": [
    "#Prepare data sets\n",
    "\n",
    "July2017 = pd.read_csv('input/temp07-2017.csv', encoding = 'iso-8859-1', delimiter = ';')\n",
    "July2017 = July2017[['Data', 'Czas', 'Temperatura [°C]', 'Wilgotnosc [%]']]\n",
    "July2017.columns = ['Data', 'Czas', 'Temperatura', 'Wilgotnosc']\n",
    "July2017['Czas'] = [hour[:2] for hour in list(July2017['Czas'])]\n",
    "July2017 = July2017.groupby(['Data', 'Czas']).mean().reset_index()"
   ]
  },
  {
   "cell_type": "code",
   "execution_count": 338,
   "metadata": {},
   "outputs": [],
   "source": [
    "#Prepare data sets\n",
    "\n",
    "July2018 = pd.read_csv('input/temp07-2018.csv', encoding = 'iso-8859-1', delimiter = ';')\n",
    "July2018 = July2018[['Data','Czas', 'Temperatura [°C]', 'Wilgotnosc [%]']]\n",
    "July2018.columns = ['Data','Czas', 'Temperatura', 'Wilgotnosc']\n",
    "July2018['Czas'] = [hour[:2] for hour in list(July2018['Czas'])]\n",
    "July2018 = July2018.groupby(['Data', 'Czas']).mean().reset_index()"
   ]
  },
  {
   "cell_type": "code",
   "execution_count": 339,
   "metadata": {},
   "outputs": [],
   "source": [
    "#Prepare data sets\n",
    "\n",
    "July2019 = pd.read_csv('input/temp07-2019.csv', encoding = 'iso-8859-1', delimiter = ';')\n",
    "July2019 = July2019[['Data', 'Czas', 'Temperatura [°C]', 'Wilgotnosc [%]']]\n",
    "July2019.columns = ['Data', 'Czas', 'Temperatura', 'Wilgotnosc']\n",
    "July2019['Czas'] = [hour[:2] for hour in list(July2019['Czas'])]\n",
    "July2019 = July2019.groupby(['Data', 'Czas']).mean().reset_index().reset_index()"
   ]
  },
  {
   "cell_type": "code",
   "execution_count": 1,
   "metadata": {},
   "outputs": [
    {
     "ename": "NameError",
     "evalue": "name 'July2017' is not defined",
     "output_type": "error",
     "traceback": [
      "\u001b[0;31m---------------------------------------------------------------------------\u001b[0m",
      "\u001b[0;31mNameError\u001b[0m                                 Traceback (most recent call last)",
      "\u001b[0;32m<ipython-input-1-d552948505fe>\u001b[0m in \u001b[0;36m<module>\u001b[0;34m\u001b[0m\n\u001b[0;32m----> 1\u001b[0;31m \u001b[0mJuly2017\u001b[0m\u001b[0;34m.\u001b[0m\u001b[0mhead\u001b[0m\u001b[0;34m(\u001b[0m\u001b[0;36m3\u001b[0m\u001b[0;34m)\u001b[0m\u001b[0;34m\u001b[0m\u001b[0;34m\u001b[0m\u001b[0m\n\u001b[0m",
      "\u001b[0;31mNameError\u001b[0m: name 'July2017' is not defined"
     ]
    }
   ],
   "source": [
    "July2017.head(3)"
   ]
  },
  {
   "cell_type": "code",
   "execution_count": 341,
   "metadata": {},
   "outputs": [
    {
     "data": {
      "text/plain": [
       "'file:///home/darek/WprowadzenieDoPlotly/temp-plot.html'"
      ]
     },
     "execution_count": 341,
     "metadata": {},
     "output_type": "execute_result"
    }
   ],
   "source": [
    "#Heatmap\n",
    "\n",
    "data = [go.Heatmap(x = July2017['Data'], y = July2017['Czas'], z = July2017['Temperatura'], \n",
    "                  colorscale='Jet')]\n",
    "\n",
    "fig = go.Figure(data = data)\n",
    "pyo.plot(fig)"
   ]
  },
  {
   "cell_type": "code",
   "execution_count": 353,
   "metadata": {},
   "outputs": [
    {
     "name": "stdout",
     "output_type": "stream",
     "text": [
      "This is the format of your plot grid:\n",
      "[ (1,1) x1,y1 ]  [ (1,2) x2,y1 ]  [ (1,3) x3,y1 ]\n",
      "\n"
     ]
    },
    {
     "data": {
      "text/plain": [
       "'file:///home/darek/WprowadzenieDoPlotly/Junes.html'"
      ]
     },
     "execution_count": 353,
     "metadata": {},
     "output_type": "execute_result"
    }
   ],
   "source": [
    "# import v.3\n",
    "from plotly import tools\n",
    "\n",
    "data1 = go.Heatmap(x = July2017['Data'], y = July2017['Czas'], z = July2017['Temperatura'], \n",
    "                  colorscale='Jet', zmin = 10, zmax = 35)\n",
    "data2 = go.Heatmap(x = July2018['Data'], y = July2018['Czas'], z = July2018['Temperatura'], \n",
    "                  colorscale='Jet', zmin = 10, zmax = 35)\n",
    "data3 = go.Heatmap(x = July2019['Data'], y = July2019['Czas'], z = July2019['Temperatura'], \n",
    "                  colorscale='Jet', zmin = 10, zmax = 35)\n",
    "\n",
    "\n",
    "\n",
    "fig = tools.make_subplots(rows=3, cols=1,\n",
    "    subplot_titles=('July 2017','July 2018', 'July 2019'),\n",
    "    shared_xaxes = True,  # this makes the dates appear only on the bottom                      \n",
    ")\n",
    "fig.append_trace(data1, 1, 1)\n",
    "fig.append_trace(data2, 2, 1)\n",
    "fig.append_trace(data3, 3, 1)\n",
    "\n",
    "fig['layout'].update(      # access the layout directly!\n",
    "    title='Hourly Temperatures, July 2017-2019'\n",
    ")\n",
    "pyo.plot(fig, filename='TempInJuly.html')\n"
   ]
  },
  {
   "cell_type": "code",
   "execution_count": 354,
   "metadata": {},
   "outputs": [],
   "source": [
    "#Task 5\n",
    "#Change the orientation of the chart to 3 columns and 1 row. \n",
    "\n"
   ]
  }
 ],
 "metadata": {
  "kernelspec": {
   "display_name": "Python 3",
   "language": "python",
   "name": "python3"
  },
  "language_info": {
   "codemirror_mode": {
    "name": "ipython",
    "version": 3
   },
   "file_extension": ".py",
   "mimetype": "text/x-python",
   "name": "python",
   "nbconvert_exporter": "python",
   "pygments_lexer": "ipython3",
   "version": "3.7.3"
  }
 },
 "nbformat": 4,
 "nbformat_minor": 2
}
